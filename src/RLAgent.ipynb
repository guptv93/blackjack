{
 "cells": [
  {
   "cell_type": "markdown",
   "metadata": {},
   "source": [
    "# Reinforcement Learning Agent\n",
    "Here we try to develop a RL Agent for learning the game of blackjack. We use Q-Learning for the same."
   ]
  },
  {
   "cell_type": "code",
   "execution_count": 1,
   "metadata": {},
   "outputs": [],
   "source": [
    "from game import *\n",
    "import random\n",
    "import numpy as np\n",
    "import matplotlib.pyplot as plt\n",
    "import matplotlib.patches as mpatches\n",
    "from matplotlib import colors"
   ]
  },
  {
   "cell_type": "markdown",
   "metadata": {},
   "source": [
    " **Enlist Valid States**  \n",
    " \n",
    "The player state consists of three fields:\n",
    "1. Integer representing the sum of player card values\n",
    "2. Integer representing the value of dealer's first card\n",
    "3. Boolean representing whether the player has a usable Ace.\n",
    "\n",
    "First we write a function to get the current agent state. Then we enlist all the valid states that the player can be in. The player can continue playing (choosing between hit and state) in the valid states. We also assign an integer index to each state for easy reference. "
   ]
  },
  {
   "cell_type": "code",
   "execution_count": 2,
   "metadata": {},
   "outputs": [
    {
     "data": {
      "text/plain": [
       "-1"
      ]
     },
     "execution_count": 2,
     "metadata": {},
     "output_type": "execute_result"
    }
   ],
   "source": [
    "def get_state(game):\n",
    "    return (game.get_sum(game.get_player_hand()), game.get_hand_value(game.get_dealer_hand())[0], game.hasAce)\n",
    "\n",
    "valid_states = [(x,y,z) for z in [True,False] for x in range(12,22) for y in range(2,12)]\n",
    "states_without_ace = [(x,y,False) for x in range(12,22) for y in range(2,12)]\n",
    "states_with_ace = [(x,y,True) for x in range(12,22) for y in range(2,12)]\n",
    "\n",
    "def state_to_index(st):\n",
    "    if st in valid_states:\n",
    "        return valid_states.index(st)\n",
    "    else:\n",
    "        return -1\n",
    "\n",
    "state_to_index((20, 2, True))\n",
    "state_to_index((22, 2, True))"
   ]
  },
  {
   "cell_type": "markdown",
   "metadata": {},
   "source": [
    "**Initialize Q-value Table** \n",
    "\n",
    "SARSA learning assigns a q-value to each state,action pair which represents the future rewards expected to be received if we take the given action in the given state. The actions that a player can take in any valid state are: hit and stand. We assign a q-value of 0 to each state, action pair."
   ]
  },
  {
   "cell_type": "code",
   "execution_count": 3,
   "metadata": {},
   "outputs": [
    {
     "data": {
      "text/plain": [
       "{'hit': 0.0, 'stand': 0.0}"
      ]
     },
     "execution_count": 3,
     "metadata": {},
     "output_type": "execute_result"
    }
   ],
   "source": [
    "def zero_q_values():\n",
    "    qvals = {\"hit\": 0.0, \"stand\": 0.0}\n",
    "    return qvals\n",
    "\n",
    "q_value_table = [zero_q_values() for x in valid_states ]\n",
    "q_value_table[state_to_index((20, 2, True))]"
   ]
  },
  {
   "cell_type": "markdown",
   "metadata": {},
   "source": [
    "**Epsilon-Greedy Policy**  \n",
    "\n",
    "All control problems need a policy to decide what action to take in what state. We use epsilon-greedy policy, which tells us to take a random action epsilon number of times (exploration) and the best action according to current data 1-epsilon number of times (exploitation)."
   ]
  },
  {
   "cell_type": "code",
   "execution_count": 4,
   "metadata": {},
   "outputs": [],
   "source": [
    "def epsilon_greedy(epsilon, q_values):\n",
    "    if random.random() < epsilon:\n",
    "        return random.choice(list(q_values.keys()))\n",
    "    else:\n",
    "        if q_values[\"hit\"] > q_values[\"stand\"]:\n",
    "            return \"hit\"\n",
    "        elif q_values[\"hit\"] < q_values[\"stand\"]:\n",
    "            return \"stand\"\n",
    "        else:\n",
    "            return random.choice(list(q_values.keys()))"
   ]
  },
  {
   "cell_type": "markdown",
   "metadata": {},
   "source": [
    "**SARSA**  \n",
    "\n",
    "Finally we go on to learn the Q-value table. We use SARSA learning algorithm for the same. The intuition behind SARSA is very simple.\n",
    "\n",
    "We first randomly initialize q_value_table, with zero value for the terminal states. Then everytime we take action a in state s, we try to find the next state s' and next action (according to the same policy) a' and calculate the expected future reward. The expected future reward is given by:   \n",
    "immediate_reward + GAMMA * Q(s',a')  \n",
    "GAMMA is the discounting factor in the above equation.  \n",
    "\n",
    "The Q value of current state and action pair (s,a) is the moving average of all these expected future rewards. Thus we try to move the value of Q(s,a) towards the expected future reward by a constant averaging factor ALPHA.\n",
    "\n",
    "The policy that we try to learn is the epsilon-greedy policy. However, if we keep exploring at the same rate throughout, our Q-values will never converge. To get the Q-values to converge, we reduce the amount of exploration (value of epsilon) as we learn from more and more experience. Thus we finally get our Q-values to converge to the optimal q-values."
   ]
  },
  {
   "cell_type": "code",
   "execution_count": 5,
   "metadata": {},
   "outputs": [],
   "source": [
    "EPSILON = 0.9\n",
    "ALPHA = 0.05\n",
    "GAMMA = 0.9\n",
    "EPISODES = 900000\n",
    "glie_factor = 1\n",
    "#count_of_busts = 0\n",
    "#count_of_wins = 0\n",
    "\n",
    "for episode in range(EPISODES):\n",
    "    if episode % EPISODES/9:\n",
    "        EPSILON = EPSILON/glie_factor\n",
    "        glie_factor += 1\n",
    "    game = BlackJack()\n",
    "    game.start_game()\n",
    "    state = state_to_index(get_state(game))\n",
    "    action = epsilon_greedy(EPSILON, q_value_table[state])\n",
    "    while(True):\n",
    "        if action==\"hit\":\n",
    "            game.hit()\n",
    "            next_state = state_to_index(get_state(game))\n",
    "        else:\n",
    "            game.stand()\n",
    "            next_state = -1\n",
    "        if next_state == -1:\n",
    "            q_value_table[state][action] += ALPHA*(game.result - q_value_table[state][action])\n",
    "            break\n",
    "        next_action = epsilon_greedy(EPSILON, q_value_table[next_state])\n",
    "        q_value_table[state][action] += ALPHA*( GAMMA*q_value_table[next_state][next_action] - q_value_table[state][action])\n",
    "        state = next_state\n",
    "        action = next_action"
   ]
  },
  {
   "cell_type": "markdown",
   "metadata": {},
   "source": [
    "**Policy Table**\n",
    "\n",
    "Finally we try to develop the optimal policy from the Q value table we developed. pi(s) = argmax Q(s,a). We also develop the value table, using the formula v(s) = max Q(s,a)"
   ]
  },
  {
   "cell_type": "code",
   "execution_count": 6,
   "metadata": {},
   "outputs": [],
   "source": [
    "policy_function = {}\n",
    "value_function = {}\n",
    "for state in range(len(valid_states)):\n",
    "    if q_value_table[state][\"hit\"] > q_value_table[state][\"stand\"]:\n",
    "        policy_function[valid_states[state]] = \"hit\"\n",
    "        value_function[valid_states[state]] = q_value_table[state][\"hit\"]\n",
    "    else:\n",
    "        policy_function[valid_states[state]] = \"stand\"\n",
    "        value_function[valid_states[state]] = q_value_table[state][\"stand\"]"
   ]
  },
  {
   "cell_type": "markdown",
   "metadata": {},
   "source": [
    "**Plotting**\n",
    "\n",
    "Now having learned the optimal policy, let us plot the policy against the current state, so that we can visualize better."
   ]
  },
  {
   "cell_type": "code",
   "execution_count": 7,
   "metadata": {},
   "outputs": [
    {
     "data": {
      "image/png": "[encoded data removed]",
      "text/plain": [
       "<Figure size 432x288 with 1 Axes>"
      ]
     },
     "metadata": {
      "needs_background": "light"
     },
     "output_type": "display_data"
    },
    {
     "data": {
      "image/png": "[encoded data removed]",
      "text/plain": [
       "<Figure size 432x288 with 1 Axes>"
      ]
     },
     "metadata": {
      "needs_background": "light"
     },
     "output_type": "display_data"
    }
   ],
   "source": [
    "def plotPolicy(policy_table):\n",
    "    plotMatrix(policy_table, with_ace = True)\n",
    "    plotMatrix(policy_table, with_ace = False)\n",
    "\n",
    "def plotMatrix(policy_table, with_ace):\n",
    "    player_sum = np.arange(12, 22, dtype=int)\n",
    "    dealer_first_card = np.arange(2,12,dtype=int)\n",
    "    reversed_player_sum = player_sum[::-1]\n",
    "    optimal_strategy = np.zeros([player_sum.size, dealer_first_card.size])\n",
    "\n",
    "    for x in range(12,22): \n",
    "        for y in range(2,12):\n",
    "            if str(policy_table[(x,y,with_ace)]) == 'hit':\n",
    "                optimal_strategy[x-12][y-2] = 1\n",
    "    inv_optimal_strategy = optimal_strategy[::-1]\n",
    "\n",
    "    fig, ax = plt.subplots()\n",
    "    cmap = colors.ListedColormap([ 'grey','whitesmoke'])\n",
    "    im = plt.imshow( inv_optimal_strategy, cmap=cmap)\n",
    "    ax.set_xticks(np.arange(len(dealer_first_card)))\n",
    "    ax.set_yticks(np.arange(len(reversed_player_sum)))\n",
    "    ax.set_xticklabels(dealer_first_card)\n",
    "    ax.set_yticklabels(reversed_player_sum)\n",
    "    hit_patch = mpatches.Patch(color='whitesmoke', label='hit')\n",
    "    stand_patch = mpatches.Patch(color='grey', label='stand')\n",
    "    plt.legend(bbox_to_anchor=(1.05, 1), loc=2, borderaxespad=0.,handles=[stand_patch,hit_patch])\n",
    "    if with_ace:\n",
    "        ax.set_title(\"With Usable Ace\")\n",
    "    else:\n",
    "        ax.set_title(\"Without Usable Ace\")\n",
    "    plt.xlabel('dealers first card')\n",
    "    plt.ylabel('players sum')\n",
    "    fig.tight_layout()\n",
    "    plt.show()\n",
    "    \n",
    "plotPolicy(policy_function)"
   ]
  },
  {
   "cell_type": "markdown",
   "metadata": {},
   "source": [
    "**Q-Learning**\n",
    "\n",
    "The SARSA technique that we implemented above is an on-policy learning method. On-policy learning means that we can also follow the policy (take actions according to the policy) that we want to learn the q-values for. Q-Learning  is an off-policy learning method. In off-policy learning we want to learn the q-values for one policy, but we follow a different policy for taking actions. This is helpful when we have collect data using some policy but want to learn Q-values using a different policy. Or when we can just observe an agent that is interacting with the environment (we can't control the actions that the agent takes) but still want to learn the optimal policy.\n",
    "\n",
    "The behavioral policy (according to which we take the actions) that we will use is still epsilon-greedy. But the policy that we are trying to learn (pi) is the greedy policy. Below we code up Q-Learning technique for blackjack."
   ]
  },
  {
   "cell_type": "code",
   "execution_count": null,
   "metadata": {},
   "outputs": [],
   "source": []
  }
 ],
 "metadata": {
  "kernelspec": {
   "display_name": "Python 3",
   "language": "python",
   "name": "python3"
  },
  "language_info": {
   "codemirror_mode": {
    "name": "ipython",
    "version": 3
   },
   "file_extension": ".py",
   "mimetype": "text/x-python",
   "name": "python",
   "nbconvert_exporter": "python",
   "pygments_lexer": "ipython3",
   "version": "3.6.5"
  }
 },
 "nbformat": 4,
 "nbformat_minor": 2
}
